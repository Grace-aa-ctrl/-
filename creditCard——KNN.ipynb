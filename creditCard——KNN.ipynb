{
 "cells": [
  {
   "cell_type": "code",
   "execution_count": 1,
   "id": "9c18e1df",
   "metadata": {},
   "outputs": [],
   "source": [
    "# 用KNN模型实现二分类预测\n",
    "import numpy as np \n",
    "import pandas as pd \n",
    "from sklearn.preprocessing  import MinMaxScaler\n",
    "from sklearn.decomposition import PCA\n",
    "import matplotlib.pyplot as plt\n",
    "import seaborn as sns\n",
    "from sklearn.model_selection import train_test_split\n",
    "from sklearn import svm , metrics\n",
    "from sklearn.neighbors import KNeighborsClassifier\n",
    "import pickle\n",
    "\n",
    "from sklearn.linear_model import LogisticRegression"
   ]
  },
  {
   "cell_type": "code",
   "execution_count": 2,
   "id": "ff7d4a38",
   "metadata": {},
   "outputs": [
    {
     "name": "stdout",
     "output_type": "stream",
     "text": [
      "shape of the data:  (568630, 31)\n"
     ]
    }
   ],
   "source": [
    "creditCard_data = pd.read_csv(\"creditcard_2023.csv\")\n",
    "print(\"shape of the data: \",creditCard_data.shape)"
   ]
  },
  {
   "cell_type": "code",
   "execution_count": 4,
   "id": "ca9f4ea9",
   "metadata": {},
   "outputs": [
    {
     "data": {
      "text/html": [
       "<div>\n",
       "<style scoped>\n",
       "    .dataframe tbody tr th:only-of-type {\n",
       "        vertical-align: middle;\n",
       "    }\n",
       "\n",
       "    .dataframe tbody tr th {\n",
       "        vertical-align: top;\n",
       "    }\n",
       "\n",
       "    .dataframe thead th {\n",
       "        text-align: right;\n",
       "    }\n",
       "</style>\n",
       "<table border=\"1\" class=\"dataframe\">\n",
       "  <thead>\n",
       "    <tr style=\"text-align: right;\">\n",
       "      <th></th>\n",
       "      <th>id</th>\n",
       "      <th>V1</th>\n",
       "      <th>V2</th>\n",
       "      <th>V3</th>\n",
       "      <th>V4</th>\n",
       "      <th>V5</th>\n",
       "      <th>V6</th>\n",
       "      <th>V7</th>\n",
       "      <th>V8</th>\n",
       "      <th>V9</th>\n",
       "      <th>...</th>\n",
       "      <th>V21</th>\n",
       "      <th>V22</th>\n",
       "      <th>V23</th>\n",
       "      <th>V24</th>\n",
       "      <th>V25</th>\n",
       "      <th>V26</th>\n",
       "      <th>V27</th>\n",
       "      <th>V28</th>\n",
       "      <th>Amount</th>\n",
       "      <th>Class</th>\n",
       "    </tr>\n",
       "  </thead>\n",
       "  <tbody>\n",
       "    <tr>\n",
       "      <th>0</th>\n",
       "      <td>0</td>\n",
       "      <td>-0.260648</td>\n",
       "      <td>-0.469648</td>\n",
       "      <td>2.496266</td>\n",
       "      <td>-0.083724</td>\n",
       "      <td>0.129681</td>\n",
       "      <td>0.732898</td>\n",
       "      <td>0.519014</td>\n",
       "      <td>-0.130006</td>\n",
       "      <td>0.727159</td>\n",
       "      <td>...</td>\n",
       "      <td>-0.110552</td>\n",
       "      <td>0.217606</td>\n",
       "      <td>-0.134794</td>\n",
       "      <td>0.165959</td>\n",
       "      <td>0.126280</td>\n",
       "      <td>-0.434824</td>\n",
       "      <td>-0.081230</td>\n",
       "      <td>-0.151045</td>\n",
       "      <td>17982.10</td>\n",
       "      <td>0</td>\n",
       "    </tr>\n",
       "    <tr>\n",
       "      <th>1</th>\n",
       "      <td>1</td>\n",
       "      <td>0.985100</td>\n",
       "      <td>-0.356045</td>\n",
       "      <td>0.558056</td>\n",
       "      <td>-0.429654</td>\n",
       "      <td>0.277140</td>\n",
       "      <td>0.428605</td>\n",
       "      <td>0.406466</td>\n",
       "      <td>-0.133118</td>\n",
       "      <td>0.347452</td>\n",
       "      <td>...</td>\n",
       "      <td>-0.194936</td>\n",
       "      <td>-0.605761</td>\n",
       "      <td>0.079469</td>\n",
       "      <td>-0.577395</td>\n",
       "      <td>0.190090</td>\n",
       "      <td>0.296503</td>\n",
       "      <td>-0.248052</td>\n",
       "      <td>-0.064512</td>\n",
       "      <td>6531.37</td>\n",
       "      <td>0</td>\n",
       "    </tr>\n",
       "    <tr>\n",
       "      <th>2</th>\n",
       "      <td>2</td>\n",
       "      <td>-0.260272</td>\n",
       "      <td>-0.949385</td>\n",
       "      <td>1.728538</td>\n",
       "      <td>-0.457986</td>\n",
       "      <td>0.074062</td>\n",
       "      <td>1.419481</td>\n",
       "      <td>0.743511</td>\n",
       "      <td>-0.095576</td>\n",
       "      <td>-0.261297</td>\n",
       "      <td>...</td>\n",
       "      <td>-0.005020</td>\n",
       "      <td>0.702906</td>\n",
       "      <td>0.945045</td>\n",
       "      <td>-1.154666</td>\n",
       "      <td>-0.605564</td>\n",
       "      <td>-0.312895</td>\n",
       "      <td>-0.300258</td>\n",
       "      <td>-0.244718</td>\n",
       "      <td>2513.54</td>\n",
       "      <td>0</td>\n",
       "    </tr>\n",
       "    <tr>\n",
       "      <th>3</th>\n",
       "      <td>3</td>\n",
       "      <td>-0.152152</td>\n",
       "      <td>-0.508959</td>\n",
       "      <td>1.746840</td>\n",
       "      <td>-1.090178</td>\n",
       "      <td>0.249486</td>\n",
       "      <td>1.143312</td>\n",
       "      <td>0.518269</td>\n",
       "      <td>-0.065130</td>\n",
       "      <td>-0.205698</td>\n",
       "      <td>...</td>\n",
       "      <td>-0.146927</td>\n",
       "      <td>-0.038212</td>\n",
       "      <td>-0.214048</td>\n",
       "      <td>-1.893131</td>\n",
       "      <td>1.003963</td>\n",
       "      <td>-0.515950</td>\n",
       "      <td>-0.165316</td>\n",
       "      <td>0.048424</td>\n",
       "      <td>5384.44</td>\n",
       "      <td>0</td>\n",
       "    </tr>\n",
       "    <tr>\n",
       "      <th>4</th>\n",
       "      <td>4</td>\n",
       "      <td>-0.206820</td>\n",
       "      <td>-0.165280</td>\n",
       "      <td>1.527053</td>\n",
       "      <td>-0.448293</td>\n",
       "      <td>0.106125</td>\n",
       "      <td>0.530549</td>\n",
       "      <td>0.658849</td>\n",
       "      <td>-0.212660</td>\n",
       "      <td>1.049921</td>\n",
       "      <td>...</td>\n",
       "      <td>-0.106984</td>\n",
       "      <td>0.729727</td>\n",
       "      <td>-0.161666</td>\n",
       "      <td>0.312561</td>\n",
       "      <td>-0.414116</td>\n",
       "      <td>1.071126</td>\n",
       "      <td>0.023712</td>\n",
       "      <td>0.419117</td>\n",
       "      <td>14278.97</td>\n",
       "      <td>0</td>\n",
       "    </tr>\n",
       "    <tr>\n",
       "      <th>5</th>\n",
       "      <td>5</td>\n",
       "      <td>0.025302</td>\n",
       "      <td>-0.140514</td>\n",
       "      <td>1.191138</td>\n",
       "      <td>-0.707979</td>\n",
       "      <td>0.430490</td>\n",
       "      <td>0.458973</td>\n",
       "      <td>0.611050</td>\n",
       "      <td>-0.092629</td>\n",
       "      <td>0.180811</td>\n",
       "      <td>...</td>\n",
       "      <td>-0.187739</td>\n",
       "      <td>-0.538518</td>\n",
       "      <td>-0.050465</td>\n",
       "      <td>-0.631553</td>\n",
       "      <td>-0.456480</td>\n",
       "      <td>0.252670</td>\n",
       "      <td>0.066681</td>\n",
       "      <td>0.095812</td>\n",
       "      <td>6901.49</td>\n",
       "      <td>0</td>\n",
       "    </tr>\n",
       "    <tr>\n",
       "      <th>6</th>\n",
       "      <td>6</td>\n",
       "      <td>1.016482</td>\n",
       "      <td>-0.397181</td>\n",
       "      <td>0.497868</td>\n",
       "      <td>-0.144463</td>\n",
       "      <td>0.331022</td>\n",
       "      <td>0.629243</td>\n",
       "      <td>0.431262</td>\n",
       "      <td>-0.134007</td>\n",
       "      <td>0.796159</td>\n",
       "      <td>...</td>\n",
       "      <td>-0.171137</td>\n",
       "      <td>-0.287017</td>\n",
       "      <td>-0.178197</td>\n",
       "      <td>-1.297597</td>\n",
       "      <td>1.182503</td>\n",
       "      <td>-0.604228</td>\n",
       "      <td>-0.198163</td>\n",
       "      <td>-0.087619</td>\n",
       "      <td>18954.45</td>\n",
       "      <td>0</td>\n",
       "    </tr>\n",
       "    <tr>\n",
       "      <th>7</th>\n",
       "      <td>7</td>\n",
       "      <td>-0.051306</td>\n",
       "      <td>-0.007194</td>\n",
       "      <td>1.139941</td>\n",
       "      <td>-0.877880</td>\n",
       "      <td>0.684668</td>\n",
       "      <td>0.714326</td>\n",
       "      <td>0.892615</td>\n",
       "      <td>-0.908409</td>\n",
       "      <td>0.901938</td>\n",
       "      <td>...</td>\n",
       "      <td>0.620676</td>\n",
       "      <td>-0.920426</td>\n",
       "      <td>0.034660</td>\n",
       "      <td>-1.091527</td>\n",
       "      <td>-0.742075</td>\n",
       "      <td>-0.104863</td>\n",
       "      <td>-1.382522</td>\n",
       "      <td>-2.748268</td>\n",
       "      <td>12298.23</td>\n",
       "      <td>0</td>\n",
       "    </tr>\n",
       "    <tr>\n",
       "      <th>8</th>\n",
       "      <td>8</td>\n",
       "      <td>-0.130680</td>\n",
       "      <td>-0.349547</td>\n",
       "      <td>0.425786</td>\n",
       "      <td>-0.760444</td>\n",
       "      <td>1.702777</td>\n",
       "      <td>2.324816</td>\n",
       "      <td>0.568968</td>\n",
       "      <td>0.049100</td>\n",
       "      <td>0.273118</td>\n",
       "      <td>...</td>\n",
       "      <td>-0.132787</td>\n",
       "      <td>-0.284700</td>\n",
       "      <td>-0.227779</td>\n",
       "      <td>2.248754</td>\n",
       "      <td>0.534846</td>\n",
       "      <td>-0.929738</td>\n",
       "      <td>-0.224385</td>\n",
       "      <td>0.243790</td>\n",
       "      <td>22052.90</td>\n",
       "      <td>0</td>\n",
       "    </tr>\n",
       "    <tr>\n",
       "      <th>9</th>\n",
       "      <td>9</td>\n",
       "      <td>0.058419</td>\n",
       "      <td>-0.093507</td>\n",
       "      <td>1.117270</td>\n",
       "      <td>-0.735172</td>\n",
       "      <td>0.466111</td>\n",
       "      <td>0.332371</td>\n",
       "      <td>0.683425</td>\n",
       "      <td>-0.136674</td>\n",
       "      <td>0.096409</td>\n",
       "      <td>...</td>\n",
       "      <td>-0.203634</td>\n",
       "      <td>-0.601581</td>\n",
       "      <td>-0.145082</td>\n",
       "      <td>-0.654783</td>\n",
       "      <td>-0.196621</td>\n",
       "      <td>0.226818</td>\n",
       "      <td>0.057119</td>\n",
       "      <td>0.100629</td>\n",
       "      <td>210.35</td>\n",
       "      <td>0</td>\n",
       "    </tr>\n",
       "  </tbody>\n",
       "</table>\n",
       "<p>10 rows × 31 columns</p>\n",
       "</div>"
      ],
      "text/plain": [
       "   id        V1        V2        V3        V4        V5        V6        V7  \\\n",
       "0   0 -0.260648 -0.469648  2.496266 -0.083724  0.129681  0.732898  0.519014   \n",
       "1   1  0.985100 -0.356045  0.558056 -0.429654  0.277140  0.428605  0.406466   \n",
       "2   2 -0.260272 -0.949385  1.728538 -0.457986  0.074062  1.419481  0.743511   \n",
       "3   3 -0.152152 -0.508959  1.746840 -1.090178  0.249486  1.143312  0.518269   \n",
       "4   4 -0.206820 -0.165280  1.527053 -0.448293  0.106125  0.530549  0.658849   \n",
       "5   5  0.025302 -0.140514  1.191138 -0.707979  0.430490  0.458973  0.611050   \n",
       "6   6  1.016482 -0.397181  0.497868 -0.144463  0.331022  0.629243  0.431262   \n",
       "7   7 -0.051306 -0.007194  1.139941 -0.877880  0.684668  0.714326  0.892615   \n",
       "8   8 -0.130680 -0.349547  0.425786 -0.760444  1.702777  2.324816  0.568968   \n",
       "9   9  0.058419 -0.093507  1.117270 -0.735172  0.466111  0.332371  0.683425   \n",
       "\n",
       "         V8        V9  ...       V21       V22       V23       V24       V25  \\\n",
       "0 -0.130006  0.727159  ... -0.110552  0.217606 -0.134794  0.165959  0.126280   \n",
       "1 -0.133118  0.347452  ... -0.194936 -0.605761  0.079469 -0.577395  0.190090   \n",
       "2 -0.095576 -0.261297  ... -0.005020  0.702906  0.945045 -1.154666 -0.605564   \n",
       "3 -0.065130 -0.205698  ... -0.146927 -0.038212 -0.214048 -1.893131  1.003963   \n",
       "4 -0.212660  1.049921  ... -0.106984  0.729727 -0.161666  0.312561 -0.414116   \n",
       "5 -0.092629  0.180811  ... -0.187739 -0.538518 -0.050465 -0.631553 -0.456480   \n",
       "6 -0.134007  0.796159  ... -0.171137 -0.287017 -0.178197 -1.297597  1.182503   \n",
       "7 -0.908409  0.901938  ...  0.620676 -0.920426  0.034660 -1.091527 -0.742075   \n",
       "8  0.049100  0.273118  ... -0.132787 -0.284700 -0.227779  2.248754  0.534846   \n",
       "9 -0.136674  0.096409  ... -0.203634 -0.601581 -0.145082 -0.654783 -0.196621   \n",
       "\n",
       "        V26       V27       V28    Amount  Class  \n",
       "0 -0.434824 -0.081230 -0.151045  17982.10      0  \n",
       "1  0.296503 -0.248052 -0.064512   6531.37      0  \n",
       "2 -0.312895 -0.300258 -0.244718   2513.54      0  \n",
       "3 -0.515950 -0.165316  0.048424   5384.44      0  \n",
       "4  1.071126  0.023712  0.419117  14278.97      0  \n",
       "5  0.252670  0.066681  0.095812   6901.49      0  \n",
       "6 -0.604228 -0.198163 -0.087619  18954.45      0  \n",
       "7 -0.104863 -1.382522 -2.748268  12298.23      0  \n",
       "8 -0.929738 -0.224385  0.243790  22052.90      0  \n",
       "9  0.226818  0.057119  0.100629    210.35      0  \n",
       "\n",
       "[10 rows x 31 columns]"
      ]
     },
     "execution_count": 4,
     "metadata": {},
     "output_type": "execute_result"
    }
   ],
   "source": [
    "creditCard_data.head(10)"
   ]
  },
  {
   "cell_type": "code",
   "execution_count": 5,
   "id": "5fc7798f",
   "metadata": {
    "scrolled": true
   },
   "outputs": [
    {
     "name": "stdout",
     "output_type": "stream",
     "text": [
      "id        0\n",
      "V1        0\n",
      "V2        0\n",
      "V3        0\n",
      "V4        0\n",
      "V5        0\n",
      "V6        0\n",
      "V7        0\n",
      "V8        0\n",
      "V9        0\n",
      "V10       0\n",
      "V11       0\n",
      "V12       0\n",
      "V13       0\n",
      "V14       0\n",
      "V15       0\n",
      "V16       0\n",
      "V17       0\n",
      "V18       0\n",
      "V19       0\n",
      "V20       0\n",
      "V21       0\n",
      "V22       0\n",
      "V23       0\n",
      "V24       0\n",
      "V25       0\n",
      "V26       0\n",
      "V27       0\n",
      "V28       0\n",
      "Amount    0\n",
      "Class     0\n",
      "dtype: int64\n"
     ]
    }
   ],
   "source": [
    "# 1.Preprocessing the data\n",
    "\n",
    "## 1.1 checking for null values if any  检查是否有空值\n",
    "print(creditCard_data.isna().sum())"
   ]
  },
  {
   "cell_type": "code",
   "execution_count": 6,
   "id": "b0f8af45",
   "metadata": {},
   "outputs": [
    {
     "name": "stdout",
     "output_type": "stream",
     "text": [
      "重复值的数量： 0\n"
     ]
    }
   ],
   "source": [
    "## 1.2 checking for duplicates if any   检查是否有重复值\n",
    "print(\"重复值的数量：\",creditCard_data.duplicated().sum())"
   ]
  },
  {
   "cell_type": "code",
   "execution_count": 7,
   "id": "27bf12f4",
   "metadata": {},
   "outputs": [
    {
     "name": "stdout",
     "output_type": "stream",
     "text": [
      "x shape: (568630, 29)\n",
      "y shape:  (568630,)\n"
     ]
    }
   ],
   "source": [
    "## 1.3 extract the features and the label  \n",
    "y = creditCard_data.iloc[:,-1]\n",
    "x = creditCard_data.iloc[:,1:30]\n",
    "print(\"x shape:\" , x.shape)\n",
    "print(\"y shape: \",y.shape)"
   ]
  },
  {
   "cell_type": "code",
   "execution_count": 8,
   "id": "f0d2b5e0",
   "metadata": {},
   "outputs": [
    {
     "data": {
      "text/plain": [
       "array([0.56509083, 0.91106842, 0.32814324, 0.59703704, 0.19142831,\n",
       "       0.46201845, 0.02191858, 0.63576003, 0.18645748, 0.10895522,\n",
       "       0.58662371, 0.11607518, 0.38149206, 0.12485038, 0.30807256,\n",
       "       0.04972865, 0.31619636, 0.29933661, 0.68140328, 0.72429707,\n",
       "       0.70157444, 0.39044943, 0.48643805, 0.24856315, 0.48660636,\n",
       "       0.56259943, 0.08419483, 0.33436928, 0.74748436])"
      ]
     },
     "execution_count": 8,
     "metadata": {},
     "output_type": "execute_result"
    }
   ],
   "source": [
    "## 1.4 normalize the data \n",
    "scaler = MinMaxScaler()\n",
    "x_normalized = scaler.fit_transform(x)\n",
    "x_normalized[0]"
   ]
  },
  {
   "cell_type": "code",
   "execution_count": 12,
   "id": "46f8aaa3",
   "metadata": {},
   "outputs": [
    {
     "data": {
      "image/png": "[encoded data removed]",
      "text/plain": [
       "<Figure size 640x480 with 1 Axes>"
      ]
     },
     "metadata": {},
     "output_type": "display_data"
    }
   ],
   "source": [
    "# 1.5 check for outliers if any   检查是否有异常值\n",
    "sns.boxplot(x = x_normalized)\n",
    "plt.show()"
   ]
  },
  {
   "cell_type": "code",
   "execution_count": 6,
   "id": "3657cd93",
   "metadata": {},
   "outputs": [
    {
     "name": "stdout",
     "output_type": "stream",
     "text": [
      "number of components needed to retain 95% of the data:  11\n",
      "x shape after reduction:  (568630, 11)\n"
     ]
    },
    {
     "data": {
      "text/plain": [
       "array([0.3930391 , 0.6985914 , 0.76273027, 0.81567022, 0.84436258,\n",
       "       0.86883517, 0.89078754, 0.90970961, 0.92632565, 0.94153327,\n",
       "       0.95430386, 0.96535532, 0.97291442, 0.97948193, 0.98376147,\n",
       "       0.98784078, 0.99084147, 0.99299465, 0.99465602, 0.99595253,\n",
       "       0.99696738, 0.99773861, 0.99842395, 0.99887756, 0.99927116,\n",
       "       0.9995691 , 0.99978318, 0.99996911, 1.        ])"
      ]
     },
     "execution_count": 6,
     "metadata": {},
     "output_type": "execute_result"
    }
   ],
   "source": [
    "## 1.6 reduce the dimension of the data    使用主成分分析法降维\n",
    "pca = PCA()\n",
    "pca.fit_transform(x_normalized)\n",
    "cum_var = np.cumsum(pca.explained_variance_ratio_)\n",
    "num_components = np.argmax(cum_var >= 0.95)+1\n",
    "print(\"number of components needed to retain 95% of the data: \",num_components)\n",
    "pca2 = PCA(n_components= num_components)\n",
    "x_reduced = pca2.fit_transform(x_normalized)\n",
    "print('x shape after reduction: ', x_reduced.shape)\n",
    "cum_var"
   ]
  },
  {
   "cell_type": "code",
   "execution_count": 7,
   "id": "4b928f49",
   "metadata": {},
   "outputs": [
    {
     "name": "stdout",
     "output_type": "stream",
     "text": [
      "x_train shape: (511767, 11)\n",
      "y_train shape: (511767,)\n",
      "x_test shape: (56863, 11)\n",
      "y_test shape: (56863,)\n"
     ]
    }
   ],
   "source": [
    "x_train , x_test, y_train , y_test = train_test_split(x_reduced,y,train_size = 0.9)\n",
    "print(\"x_train shape:\" , x_train.shape)\n",
    "print(\"y_train shape:\" , y_train.shape)\n",
    "print(\"x_test shape:\" , x_test.shape)\n",
    "print(\"y_test shape:\" , y_test.shape)"
   ]
  },
  {
   "cell_type": "code",
   "execution_count": 11,
   "id": "50b094b7",
   "metadata": {},
   "outputs": [
    {
     "data": {
      "text/plain": [
       "0.9439530098658179"
      ]
     },
     "execution_count": 11,
     "metadata": {},
     "output_type": "execute_result"
    }
   ],
   "source": [
    "# 逻辑回归\n",
    "model = LogisticRegression()\n",
    "model.fit(x_train, y_train)\n",
    "logis_predictions = model.predict(x_test)\n",
    "logis_accuracy = metrics.accuracy_score(y_test, logis_predictions)\n",
    "logis_accuracy"
   ]
  },
  {
   "cell_type": "code",
   "execution_count": 8,
   "id": "29056531",
   "metadata": {},
   "outputs": [],
   "source": [
    "# 2.Apply Models---KNN \n",
    "\n",
    "k = 10\n",
    "neighbors = []\n",
    "accuracy = []\n",
    "\n",
    "for i in range(k):\n",
    "    knn = KNeighborsClassifier(n_neighbors=i+1, weights='distance', metric='euclidean')\n",
    "    knn = knn.fit(x_train, y_train)\n",
    "    y_pred = knn.predict(x_test)\n",
    "    neighbors.append(i+1)\n",
    "    accuracy.append(metrics.accuracy_score(y_test, y_pred))"
   ]
  },
  {
   "cell_type": "code",
   "execution_count": 28,
   "id": "5ce34290",
   "metadata": {},
   "outputs": [
    {
     "data": {
      "image/png": "[encoded data removed]",
      "text/plain": [
       "<Figure size 640x480 with 1 Axes>"
      ]
     },
     "metadata": {},
     "output_type": "display_data"
    },
    {
     "name": "stdout",
     "output_type": "stream",
     "text": [
      "[0.9941789916114169, 0.9941789916114169, 0.9920510701158926, 0.9924555510613229, 0.9909255579199128, 0.9913476249934052, 0.9900462515168036, 0.990573835358669, 0.9896593566994355, 0.9899759070045548]\n"
     ]
    }
   ],
   "source": [
    "plt.plot(neighbors, accuracy)\n",
    "plt.xlabel('Neighbors')\n",
    "plt.ylabel('Accuracy')\n",
    "plt.show()\n",
    "print(accuracy)"
   ]
  },
  {
   "cell_type": "code",
   "execution_count": 29,
   "id": "50950610",
   "metadata": {},
   "outputs": [
    {
     "name": "stdout",
     "output_type": "stream",
     "text": [
      "Accuracy:  0.9941789916114169\n"
     ]
    }
   ],
   "source": [
    "knn = KNeighborsClassifier(n_neighbors=1, weights='distance', metric='euclidean')\n",
    "knn = knn.fit(x_train, y_train)\n",
    "y_pred = knn.predict(x_test)\n",
    "accuracy = metrics.accuracy_score(y_test, y_pred)\n",
    "print(\"Accuracy: \", accuracy)"
   ]
  },
  {
   "cell_type": "code",
   "execution_count": null,
   "id": "4390b9c0",
   "metadata": {},
   "outputs": [],
   "source": []
  }
 ],
 "metadata": {
  "kernelspec": {
   "display_name": "Python 3 (ipykernel)",
   "language": "python",
   "name": "python3"
  },
  "language_info": {
   "codemirror_mode": {
    "name": "ipython",
    "version": 3
   },
   "file_extension": ".py",
   "mimetype": "text/x-python",
   "name": "python",
   "nbconvert_exporter": "python",
   "pygments_lexer": "ipython3",
   "version": "3.7.0"
  }
 },
 "nbformat": 4,
 "nbformat_minor": 5
}
